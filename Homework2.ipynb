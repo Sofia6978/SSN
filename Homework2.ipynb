{
  "nbformat": 4,
  "nbformat_minor": 0,
  "metadata": {
    "colab": {
      "provenance": [],
      "authorship_tag": "ABX9TyM5adtKcm0lkqMgY29nScuH",
      "include_colab_link": true
    },
    "kernelspec": {
      "name": "python3",
      "display_name": "Python 3"
    },
    "language_info": {
      "name": "python"
    }
  },
  "cells": [
    {
      "cell_type": "markdown",
      "metadata": {
        "id": "view-in-github",
        "colab_type": "text"
      },
      "source": [
        "<a href=\"https://colab.research.google.com/github/Sofia6978/SSN/blob/main/Homework2.ipynb\" target=\"_parent\"><img src=\"https://colab.research.google.com/assets/colab-badge.svg\" alt=\"Open In Colab\"/></a>"
      ]
    },
    {
      "cell_type": "markdown",
      "source": [
        "1.a) Primero observaremos la ecuaciones de Feynmann para describir la evolución de la posición y velocidad."
      ],
      "metadata": {
        "id": "5aUuy0MQbtf7"
      }
    },
    {
      "cell_type": "code",
      "execution_count": 1,
      "metadata": {
        "id": "XP8lLFv3bo7q"
      },
      "outputs": [],
      "source": [
        "import numpy as np\n",
        "import matplotlib.pyplot as plt"
      ]
    },
    {
      "cell_type": "code",
      "source": [
        "#dt como intervalos de tiempo\n",
        "x[1] = x[0] + v_hk*dt\n",
        "v_hk = v[0] + (dt/2.0)*a"
      ],
      "metadata": {
        "id": "t6MiyGXCeLyf"
      },
      "execution_count": null,
      "outputs": []
    },
    {
      "cell_type": "markdown",
      "source": [
        "Observamos como calcula las nuevas posiciones a partir de la velocidad correspondiente a la mitad del intervalo de tiempo que estamos evaluando.\n",
        "\\\n",
        "A continuación veremos las ecuaciones en el método de Verlet."
      ],
      "metadata": {
        "id": "45ba0sTqbsEO"
      }
    },
    {
      "cell_type": "code",
      "source": [
        "x[i] = x[i-1] + v[i-1]*dt + 0.5*a[i-1]*dt*dt\n",
        "f = -k*x[i]\n",
        "a[i] = f/m\n",
        "a_m = (a[i-1] + a[i])/2.0\n",
        "v[i] = v[i-1] + a_m*dt"
      ],
      "metadata": {
        "id": "eZtStpFmnMKS"
      },
      "execution_count": null,
      "outputs": []
    },
    {
      "cell_type": "markdown",
      "source": [
        "En el caso de Verlet se asume que la aceleración en dt es constante, a partir del cual se predice la nueva posición."
      ],
      "metadata": {
        "id": "2m4BMhLdoThA"
      }
    }
  ]
}