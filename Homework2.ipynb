{
  "nbformat": 4,
  "nbformat_minor": 0,
  "metadata": {
    "colab": {
      "provenance": [],
      "authorship_tag": "ABX9TyPV1VJVwcORy6KH0wig7jSz",
      "include_colab_link": true
    },
    "kernelspec": {
      "name": "python3",
      "display_name": "Python 3"
    },
    "language_info": {
      "name": "python"
    }
  },
  "cells": [
    {
      "cell_type": "markdown",
      "metadata": {
        "id": "view-in-github",
        "colab_type": "text"
      },
      "source": [
        "<a href=\"https://colab.research.google.com/github/Sofia6978/SSN/blob/main/Homework2.ipynb\" target=\"_parent\"><img src=\"https://colab.research.google.com/assets/colab-badge.svg\" alt=\"Open In Colab\"/></a>"
      ]
    },
    {
      "cell_type": "markdown",
      "source": [
        "1.a) Primero observaremos la ecuaciones de Feynmann para describir la evolución de la posición y velocidad."
      ],
      "metadata": {
        "id": "5aUuy0MQbtf7"
      }
    },
    {
      "cell_type": "code",
      "execution_count": 1,
      "metadata": {
        "id": "XP8lLFv3bo7q"
      },
      "outputs": [],
      "source": [
        "import numpy as np\n",
        "import matplotlib.pyplot as plt"
      ]
    },
    {
      "cell_type": "code",
      "source": [
        "#dt como intervalos de tiempo\n",
        "x[1] = x[0] + v_hk*dt\n",
        "v_hk = v[0] + (dt/2.0)*a"
      ],
      "metadata": {
        "id": "t6MiyGXCeLyf"
      },
      "execution_count": null,
      "outputs": []
    },
    {
      "cell_type": "markdown",
      "source": [
        "Observamos como calcula las nuevas posiciones a partir de la velocidad correspondiente a la mitad del intervalo de tiempo que estamos evaluando.\n",
        "\\\n",
        "A continuación veremos las ecuaciones en el método de Verlet."
      ],
      "metadata": {
        "id": "45ba0sTqbsEO"
      }
    },
    {
      "cell_type": "code",
      "source": [],
      "metadata": {
        "id": "eZtStpFmnMKS"
      },
      "execution_count": null,
      "outputs": []
    },
    {
      "cell_type": "markdown",
      "source": [
        "En el caso de Verlet"
      ],
      "metadata": {
        "id": "2m4BMhLdoThA"
      }
    }
  ]
}